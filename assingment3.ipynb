{
 "cells": [
  {
   "cell_type": "code",
   "execution_count": null,
   "id": "2fee258c-60f0-4a7f-b8c7-8cbb109585bd",
   "metadata": {},
   "outputs": [],
   "source": [
    "#1 ans) python program to sort the given list of tuples based on integer value using a lambda function.\n",
    "    \n",
    "lst= [('Sachin Tendulkar', 34357), ('Ricky Ponting', 27483), ('Jack Kallis', 25534), ('Virat Kohli', 24936)]\n",
    "lst.sort(key=lambda x:x[1])\n",
    "print(lst)"
   ]
  },
  {
   "cell_type": "code",
   "execution_count": null,
   "id": "00776af5-d118-4314-bd92-febac7916f7e",
   "metadata": {},
   "outputs": [],
   "source": [
    "#2 ans) Python Program to find the squares of all the numbers in the given list of integer using lambda and map functions.\n",
    "lst = [1, 2, 3, 4, 5, 6, 7, 8, 9, 10]\n",
    "squares = list(map(lambda x:x**2,lst))\n",
    "print(squares)"
   ]
  },
  {
   "cell_type": "code",
   "execution_count": null,
   "id": "d8bbccc0-a145-4892-8cff-7a813e6286ee",
   "metadata": {},
   "outputs": [],
   "source": [
    "#3 ans) Python program to conert list of integers into tuple of strings\n",
    "lst = [1, 2, 3, 4, 5, 6, 7, 8, 9, 10]\n",
    "tuple_of_strings = tuple(map(lambda x:str(x),lst))\n",
    "print(tuple_of_strings)"
   ]
  },
  {
   "cell_type": "code",
   "execution_count": null,
   "id": "f5608995-8e78-4bcd-95b8-d6493ef61d92",
   "metadata": {},
   "outputs": [],
   "source": [
    "#4 ans) python program to multiply numbers from 1 to 25 using reduce\n",
    "from functools import reduce\n",
    "\n",
    "lst = [i for i in range(1, 26)]\n",
    "product = reduce(lambda x, y: x * y, lst)\n",
    "\n",
    "print(product)"
   ]
  },
  {
   "cell_type": "code",
   "execution_count": null,
   "id": "b080b588-b7f0-4a65-a49c-9cb112b1c367",
   "metadata": {},
   "outputs": [],
   "source": [
    "#5 ans) python program to filter numbers in the list\n",
    "lst = [2, 3, 6, 9, 27, 60, 90, 120, 55, 46]\n",
    "result = list(filter(lambda x: (x % 2 == 0) and (x % 3 == 0), lst))\n",
    "\n",
    "print(result)"
   ]
  },
  {
   "cell_type": "code",
   "execution_count": null,
   "id": "cb6c6386-513e-423b-bdcd-7b6b1a9110fb",
   "metadata": {},
   "outputs": [],
   "source": [
    "#6 ans) python program to find palindrome in list\n",
    "lst = ['python', 'php', 'aba', 'radar', 'level']\n",
    "result = list(filter(lambda x: x == x[::-1], lst))\n",
    "\n",
    "print(result)"
   ]
  }
 ],
 "metadata": {
  "kernelspec": {
   "display_name": "Python 3 (ipykernel)",
   "language": "python",
   "name": "python3"
  },
  "language_info": {
   "codemirror_mode": {
    "name": "ipython",
    "version": 3
   },
   "file_extension": ".py",
   "mimetype": "text/x-python",
   "name": "python",
   "nbconvert_exporter": "python",
   "pygments_lexer": "ipython3",
   "version": "3.10.8"
  }
 },
 "nbformat": 4,
 "nbformat_minor": 5
}
